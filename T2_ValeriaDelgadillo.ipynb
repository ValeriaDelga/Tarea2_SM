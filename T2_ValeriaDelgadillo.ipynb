{
 "cells": [
  {
   "cell_type": "markdown",
   "metadata": {},
   "source": [
    "## Resúmen 1"
   ]
  },
  {
   "cell_type": "markdown",
   "metadata": {},
   "source": [
    "## **Python se convierte en el lenguaje de programación más popular del mundo**\n",
    "\n"
   ]
  },
  {
   "cell_type": "markdown",
   "metadata": {},
   "source": [
    ">I CERTAINLY didn’t set out to create a language that was intended for mass consumption, says Guido van Rossum\n",
    "\n",
    "En los últimos 12 meses, Python se ha buscado más que kim kardashian, los clicks en ello se han triplicado a diferencia de otros lenguajes que se han estancado o han disminuido. \n",
    "Las dos pincipales ventajas son:\n",
    "+ simplicidad\n",
    "+ flexibilidad\n",
    "\n",
    "Ello lo hace fácil de aprender, leer y compartir. Su uso es tan versátil que ha sido utilizado para diferentes cosas como inteligencia artificial, en el caso de Google, rastrear ciertas páginas web, Pixar para producir películas, Spotify para hacer recomendaciones de canciones, entre otros. \n",
    "\n",
    "liga: <https://www.economist.com/graphic-detail/2018/07/26/python-is-becoming-the-worlds-most-popular-coding-language>"
   ]
  },
  {
   "cell_type": "markdown",
   "metadata": {},
   "source": [
    "## Resúmen 2\n",
    "\n",
    "## **Programación el lenguaje del año? Python destaca de entre los primeros rankings**\n",
    "\n",
    "Python se ha consolido en los 3 primeros lugares de lenguajes de programación, de manera que ha tenido un crecimiento inigualable dentro de estos. \n",
    "De hecho, ganó 3,62 puntos porcentuales año tras año en el índice de enero de 2019 de Tiobe, superando los aumentos de Visual Basic .NET y Java.\n",
    "Python es el lenguaje que regularmente se enseña en las universidades y es el idioma de referencia para el análisis estadístico, inteligencia artificial, programación web, scripting, entre otras.\n",
    "También, es el lengiuaje más popular de los hackers debido a su facilidad en la sintaxis. \n",
    "\n",
    "liga: <https://www.zdnet.com/article/programming-language-of-the-year-python-is-standout-in-latest-rankings/>\n"
   ]
  },
  {
   "cell_type": "code",
   "execution_count": null,
   "metadata": {},
   "outputs": [],
   "source": []
  }
 ],
 "metadata": {
  "kernelspec": {
   "display_name": "Python 3",
   "language": "python",
   "name": "python3"
  },
  "language_info": {
   "codemirror_mode": {
    "name": "ipython",
    "version": 3
   },
   "file_extension": ".py",
   "mimetype": "text/x-python",
   "name": "python",
   "nbconvert_exporter": "python",
   "pygments_lexer": "ipython3",
   "version": "3.8.3"
  }
 },
 "nbformat": 4,
 "nbformat_minor": 4
}
